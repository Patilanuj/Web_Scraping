{
 "cells": [
  {
   "cell_type": "code",
   "execution_count": 1,
   "id": "c4a54d09-5c43-4d29-bf12-41936e59dfdf",
   "metadata": {},
   "outputs": [],
   "source": [
    "import requests\n",
    "import pandas as pd\n",
    "from bs4 import BeautifulSoup\n"
   ]
  },
  {
   "cell_type": "code",
   "execution_count": 4,
   "id": "7f83140f-2392-4ca5-96c5-35f88b4d90d9",
   "metadata": {},
   "outputs": [
    {
     "name": "stdout",
     "output_type": "stream",
     "text": [
      "<Response [200]>\n"
     ]
    }
   ],
   "source": [
    "url=\"https://ticker.finology.in/\"\n",
    "r=requests.get(url)\n",
    "print(r)"
   ]
  },
  {
   "cell_type": "code",
   "execution_count": 5,
   "id": "329c9897-0cc7-4dee-bb08-abe019f454ff",
   "metadata": {},
   "outputs": [],
   "source": [
    "\n",
    "soup=BeautifulSoup(r.text, 'lxml')"
   ]
  },
  {
   "cell_type": "code",
   "execution_count": 10,
   "id": "103fff65-88ad-4db8-8c83-655cffeaf26c",
   "metadata": {},
   "outputs": [],
   "source": [
    "table=soup.find(\"table\", class_='table table-sm table-hover screenertable')"
   ]
  },
  {
   "cell_type": "code",
   "execution_count": 13,
   "id": "de0f6a0b-12eb-4b86-9c57-db21b0ef3113",
   "metadata": {},
   "outputs": [],
   "source": [
    "headers= table.find_all(\"th\")"
   ]
  },
  {
   "cell_type": "code",
   "execution_count": 15,
   "id": "b11331e4-804a-4512-8d6f-7e5838864806",
   "metadata": {},
   "outputs": [
    {
     "data": {
      "text/plain": [
       "[<th scope=\"col\">Company</th>,\n",
       " <th scope=\"col\">Price<span class=\"muted\">Rs.</span></th>,\n",
       " <th scope=\"col\">Day High<span class=\"muted\">Rs.</span></th>]"
      ]
     },
     "execution_count": 15,
     "metadata": {},
     "output_type": "execute_result"
    }
   ],
   "source": [
    "headers"
   ]
  },
  {
   "cell_type": "markdown",
   "id": "d8099f60-982d-4968-90b6-a7390fd92358",
   "metadata": {},
   "source": [
    "#### Printing Headers"
   ]
  },
  {
   "cell_type": "code",
   "execution_count": 20,
   "id": "df37cb95-27eb-48cc-aa80-68987b78e5a9",
   "metadata": {},
   "outputs": [],
   "source": [
    "\n",
    "titles =[]\n",
    "for i in headers:\n",
    "    title=i.text\n",
    "    titles.append(title)"
   ]
  },
  {
   "cell_type": "code",
   "execution_count": 19,
   "id": "5d56f6c9-c358-463e-9360-38cab7c50c45",
   "metadata": {},
   "outputs": [
    {
     "name": "stdout",
     "output_type": "stream",
     "text": [
      "['Company', 'PriceRs.', 'Day HighRs.']\n"
     ]
    }
   ],
   "source": [
    "print(titles)"
   ]
  },
  {
   "cell_type": "code",
   "execution_count": 21,
   "id": "e7680b0c-a168-4683-aaae-aa39e0e668b7",
   "metadata": {},
   "outputs": [],
   "source": [
    "df=pd.DataFrame(columns=titles)"
   ]
  },
  {
   "cell_type": "code",
   "execution_count": 22,
   "id": "15efe1b4-7283-4cf8-8ead-78896f3e02db",
   "metadata": {},
   "outputs": [
    {
     "data": {
      "text/html": [
       "<div>\n",
       "<style scoped>\n",
       "    .dataframe tbody tr th:only-of-type {\n",
       "        vertical-align: middle;\n",
       "    }\n",
       "\n",
       "    .dataframe tbody tr th {\n",
       "        vertical-align: top;\n",
       "    }\n",
       "\n",
       "    .dataframe thead th {\n",
       "        text-align: right;\n",
       "    }\n",
       "</style>\n",
       "<table border=\"1\" class=\"dataframe\">\n",
       "  <thead>\n",
       "    <tr style=\"text-align: right;\">\n",
       "      <th></th>\n",
       "      <th>Company</th>\n",
       "      <th>PriceRs.</th>\n",
       "      <th>Day HighRs.</th>\n",
       "    </tr>\n",
       "  </thead>\n",
       "  <tbody>\n",
       "  </tbody>\n",
       "</table>\n",
       "</div>"
      ],
      "text/plain": [
       "Empty DataFrame\n",
       "Columns: [Company, PriceRs., Day HighRs.]\n",
       "Index: []"
      ]
     },
     "execution_count": 22,
     "metadata": {},
     "output_type": "execute_result"
    }
   ],
   "source": [
    "df"
   ]
  },
  {
   "cell_type": "code",
   "execution_count": 28,
   "id": "864be3f9-acdf-4f8c-bfdc-018d975be62c",
   "metadata": {},
   "outputs": [],
   "source": [
    "rows=table.find_all(\"tr\")"
   ]
  },
  {
   "cell_type": "code",
   "execution_count": 43,
   "id": "e979f40f-0e80-4796-9212-44c2a4d83a68",
   "metadata": {},
   "outputs": [
    {
     "name": "stdout",
     "output_type": "stream",
     "text": [
      "                     Company PriceRs. Day HighRs.\n",
      "0      \\nShivansh Finserve\\n     6.65        6.95\n",
      "1      \\nShivansh Finserve\\n     6.65        6.95\n",
      "2      \\nShivansh Finserve\\n     6.65        6.95\n",
      "3        \\nColab Platforms\\n   106.81      106.81\n",
      "4    \\nDhanashree Electro.\\n   107.37      107.37\n",
      "5     \\nRajasthan Tube Mfg\\n   248.00      248.60\n",
      "6   \\nElitecon Internation\\n   364.55      364.55\n",
      "7    \\nNagarjuna Agri Tech\\n    58.12       58.12\n",
      "8     \\nKothari Indl. Corp\\n   218.15      218.15\n",
      "9       \\nAtvo Enterprises\\n    14.80       14.80\n",
      "10            \\nJA Finance\\n   109.45      109.45\n",
      "11  \\nJyothi Infraventures\\n   178.15      178.15\n",
      "12          \\nMidwest Gold\\n   352.00      352.00\n",
      "13  \\nKashyap Tele Medicin\\n     5.22        5.22\n",
      "14     \\nRSC International\\n    44.00       44.00\n",
      "15    \\nGHV Infra Projects\\n   340.55      340.55\n",
      "16      \\nHira Automobiles\\n   169.60      169.60\n",
      "17     \\nShivansh Finserve\\n     6.65        6.95\n"
     ]
    }
   ],
   "source": [
    "for i in rows[1:]:\n",
    "    data=i.find_all(\"td\")\n",
    "    row=[tr.text for tr in data]\n",
    "    l=len(df)\n",
    "    df.loc[l]=row\n",
    "print(df)"
   ]
  },
  {
   "cell_type": "code",
   "execution_count": 45,
   "id": "15d043d3-ef70-4d40-a190-15bc1d71a272",
   "metadata": {},
   "outputs": [],
   "source": [
    "df.to_csv(\"finology_data.csv\")"
   ]
  },
  {
   "cell_type": "code",
   "execution_count": null,
   "id": "0fbed3d8-1ee1-4c41-8663-d7c2b3447c2a",
   "metadata": {},
   "outputs": [],
   "source": []
  }
 ],
 "metadata": {
  "kernelspec": {
   "display_name": "Python 3 (ipykernel)",
   "language": "python",
   "name": "python3"
  },
  "language_info": {
   "codemirror_mode": {
    "name": "ipython",
    "version": 3
   },
   "file_extension": ".py",
   "mimetype": "text/x-python",
   "name": "python",
   "nbconvert_exporter": "python",
   "pygments_lexer": "ipython3",
   "version": "3.13.1"
  }
 },
 "nbformat": 4,
 "nbformat_minor": 5
}
